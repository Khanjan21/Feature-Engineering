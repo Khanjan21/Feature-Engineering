{
  "nbformat": 4,
  "nbformat_minor": 0,
  "metadata": {
    "colab": {
      "provenance": []
    },
    "kernelspec": {
      "name": "python3",
      "display_name": "Python 3"
    },
    "language_info": {
      "name": "python"
    }
  },
  "cells": [
    {
      "cell_type": "code",
      "execution_count": 1,
      "metadata": {
        "id": "hQ76RXvpi6tA"
      },
      "outputs": [],
      "source": [
        "#1) What is a parameter?\n",
        "'''\n",
        "A parameter is a value or a set of values that defines a particular system or function.\n",
        " In Machine Learning, parameters refer to the internal values learned by a model during training,\n",
        "  such as weights and biases in a neural network.\n",
        "\n",
        "\n",
        "'''"
      ]
    },
    {
      "cell_type": "code",
      "source": [
        "#2) What is correlation?\n",
        "'''\n",
        "Correlation is a statistical measure that describes the relationship between two variables. It indicates whether and how strongly pairs of variables are related. The correlation coefficient ranges from -1 to 1.\n",
        "\n",
        "1: Perfect positive correlation.\n",
        "-1: Perfect negative correlation.\n",
        "0: No correlation.\n",
        "'''"
      ],
      "metadata": {
        "colab": {
          "base_uri": "https://localhost:8080/",
          "height": 53
        },
        "id": "gZ_VXCyKjCLU",
        "outputId": "052134bc-f6f4-4f0f-8022-d8c11553c9a9"
      },
      "execution_count": 2,
      "outputs": [
        {
          "output_type": "execute_result",
          "data": {
            "text/plain": [
              "'\\nCorrelation is a statistical measure that describes the relationship between two variables. It indicates whether and how strongly pairs of variables are related. The correlation coefficient ranges from -1 to 1.\\n\\n1: Perfect positive correlation.\\n-1: Perfect negative correlation.\\n0: No correlation.\\n'"
            ],
            "application/vnd.google.colaboratory.intrinsic+json": {
              "type": "string"
            }
          },
          "metadata": {},
          "execution_count": 2
        }
      ]
    },
    {
      "cell_type": "code",
      "source": [
        "# What does negative correlation mean?\n",
        "'''\n",
        "Negative correlation means that as one variable increases, the other variable decreases, and vice versa.\n",
        " For example, an increase in the number of hours spent studying is often negatively correlated with the number of errors in an exam.\n",
        "\n",
        "\n",
        "'''"
      ],
      "metadata": {
        "colab": {
          "base_uri": "https://localhost:8080/",
          "height": 53
        },
        "id": "oFYELq4RjNGZ",
        "outputId": "6507b809-f830-43cf-e6eb-7cfa2afd9f29"
      },
      "execution_count": 3,
      "outputs": [
        {
          "output_type": "execute_result",
          "data": {
            "text/plain": [
              "'\\nNegative correlation means that as one variable increases, the other variable decreases, and vice versa.\\n For example, an increase in the number of hours spent studying is often negatively correlated with the number of errors in an exam.\\n\\n\\n'"
            ],
            "application/vnd.google.colaboratory.intrinsic+json": {
              "type": "string"
            }
          },
          "metadata": {},
          "execution_count": 3
        }
      ]
    },
    {
      "cell_type": "code",
      "source": [
        "#3) Define Machine Learning. What are the main components in Machine Learning?\n",
        "'''\n",
        "Machine Learning is a subset of Artificial Intelligence that involves building models that can learn patterns from data and make predictions or decisions without being explicitly programmed.\n",
        "\n",
        "Main components:\n",
        "\n",
        "Data: Input data used for training and testing.\n",
        "Features: Relevant characteristics of the data.\n",
        "Model: Algorithm used to learn from data.\n",
        "Training Process: Learning phase where the model learns from data.\n",
        "Evaluation: Measuring the model's performance using metrics.\n",
        "Prediction: Making decisions or predictions on new data.\n",
        "'''"
      ],
      "metadata": {
        "colab": {
          "base_uri": "https://localhost:8080/",
          "height": 70
        },
        "id": "6cygnPdHjW5x",
        "outputId": "7e8e72ec-ec16-43f5-c633-98ebf8d10c00"
      },
      "execution_count": 4,
      "outputs": [
        {
          "output_type": "execute_result",
          "data": {
            "text/plain": [
              "\"\\nMachine Learning is a subset of Artificial Intelligence that involves building models that can learn patterns from data and make predictions or decisions without being explicitly programmed.\\n\\nMain components:\\n\\nData: Input data used for training and testing.\\nFeatures: Relevant characteristics of the data.\\nModel: Algorithm used to learn from data.\\nTraining Process: Learning phase where the model learns from data.\\nEvaluation: Measuring the model's performance using metrics.\\nPrediction: Making decisions or predictions on new data.\\n\""
            ],
            "application/vnd.google.colaboratory.intrinsic+json": {
              "type": "string"
            }
          },
          "metadata": {},
          "execution_count": 4
        }
      ]
    },
    {
      "cell_type": "code",
      "source": [
        "#4) How does loss value help in determining whether the model is good or not?\n",
        "'''\n",
        "The loss value quantifies the error between the predicted values and the actual values.\n",
        "A lower loss value indicates a better-performing model. If the loss does not decrease during training, it suggests issues like overfitting or underfitting.\n",
        "\n",
        "\n",
        "'''"
      ],
      "metadata": {
        "colab": {
          "base_uri": "https://localhost:8080/",
          "height": 53
        },
        "id": "W5IHZiIijdjr",
        "outputId": "caad4a9d-945f-4a1a-ed03-8ab16a29bd91"
      },
      "execution_count": 5,
      "outputs": [
        {
          "output_type": "execute_result",
          "data": {
            "text/plain": [
              "'\\nThe loss value quantifies the error between the predicted values and the actual values. \\nA lower loss value indicates a better-performing model. If the loss does not decrease during training, it suggests issues like overfitting or underfitting.\\n\\n\\n'"
            ],
            "application/vnd.google.colaboratory.intrinsic+json": {
              "type": "string"
            }
          },
          "metadata": {},
          "execution_count": 5
        }
      ]
    },
    {
      "cell_type": "code",
      "source": [
        "#5) What are continuous and categorical variables?\n",
        "'''\n",
        "Continuous Variables: Variables that can take an infinite number of values (e.g., height, weight, temperature).\n",
        "Categorical Variables: Variables with discrete categories or labels (e.g., color, gender, type).\n",
        "\n",
        "'''"
      ],
      "metadata": {
        "colab": {
          "base_uri": "https://localhost:8080/",
          "height": 53
        },
        "id": "L_7aH0S9jkaj",
        "outputId": "44ce1d6a-893f-4791-ac5b-9fbab61562bc"
      },
      "execution_count": 6,
      "outputs": [
        {
          "output_type": "execute_result",
          "data": {
            "text/plain": [
              "'\\nContinuous Variables: Variables that can take an infinite number of values (e.g., height, weight, temperature).\\nCategorical Variables: Variables with discrete categories or labels (e.g., color, gender, type).\\n\\n'"
            ],
            "application/vnd.google.colaboratory.intrinsic+json": {
              "type": "string"
            }
          },
          "metadata": {},
          "execution_count": 6
        }
      ]
    },
    {
      "cell_type": "code",
      "source": [
        "#6) How do we handle categorical variables in Machine Learning? What are the common techniques?\n",
        "'''\n",
        "Common techniques to handle categorical variables:\n",
        "\n",
        "Label Encoding: Assigning a unique integer to each category.\n",
        "One-Hot Encoding: Creating binary columns for each category.\n",
        "Target Encoding: Using the mean of the target variable for each category.\n",
        "Binary Encoding: Converting categories into binary numbers.\n",
        "\n",
        "'''"
      ],
      "metadata": {
        "colab": {
          "base_uri": "https://localhost:8080/",
          "height": 53
        },
        "id": "zjyZn8EkjpfR",
        "outputId": "ba1fb0a8-2d45-494c-f85b-a4665bc3df1f"
      },
      "execution_count": 7,
      "outputs": [
        {
          "output_type": "execute_result",
          "data": {
            "text/plain": [
              "'\\nCommon techniques to handle categorical variables:\\n\\nLabel Encoding: Assigning a unique integer to each category.\\nOne-Hot Encoding: Creating binary columns for each category.\\nTarget Encoding: Using the mean of the target variable for each category.\\nBinary Encoding: Converting categories into binary numbers.\\n\\n'"
            ],
            "application/vnd.google.colaboratory.intrinsic+json": {
              "type": "string"
            }
          },
          "metadata": {},
          "execution_count": 7
        }
      ]
    },
    {
      "cell_type": "code",
      "source": [
        "#7) What do you mean by training and testing a dataset?\n",
        "'''\n",
        "Training Dataset: Used to teach the model by providing input-output pairs.\n",
        "Testing Dataset: Used to evaluate the model's performance on unseen data.\n",
        "'''"
      ],
      "metadata": {
        "colab": {
          "base_uri": "https://localhost:8080/",
          "height": 36
        },
        "id": "d4fvDb_Jjw0L",
        "outputId": "cd50196c-d8fe-40c1-92aa-fb93f4838139"
      },
      "execution_count": 8,
      "outputs": [
        {
          "output_type": "execute_result",
          "data": {
            "text/plain": [
              "\"\\nTraining Dataset: Used to teach the model by providing input-output pairs.\\nTesting Dataset: Used to evaluate the model's performance on unseen data.\\n\""
            ],
            "application/vnd.google.colaboratory.intrinsic+json": {
              "type": "string"
            }
          },
          "metadata": {},
          "execution_count": 8
        }
      ]
    },
    {
      "cell_type": "code",
      "source": [
        "#8) What is sklearn.preprocessing?\n",
        "\n",
        "'''\n",
        "sklearn.preprocessing is a module in Scikit-learn that provides utilities for\n",
        "scaling, normalizing, and encoding data to make it suitable for machine learning models.\n",
        "\n",
        "\n",
        "'''"
      ],
      "metadata": {
        "colab": {
          "base_uri": "https://localhost:8080/",
          "height": 36
        },
        "id": "fxE8oRZbkEDt",
        "outputId": "439b7c60-142c-4d15-b218-6e31a5e03314"
      },
      "execution_count": 9,
      "outputs": [
        {
          "output_type": "execute_result",
          "data": {
            "text/plain": [
              "'\\nsklearn.preprocessing is a module in Scikit-learn that provides utilities for \\nscaling, normalizing, and encoding data to make it suitable for machine learning models.\\n\\n\\n'"
            ],
            "application/vnd.google.colaboratory.intrinsic+json": {
              "type": "string"
            }
          },
          "metadata": {},
          "execution_count": 9
        }
      ]
    },
    {
      "cell_type": "code",
      "source": [
        "#9) What is a Test set?\n",
        "'''\n",
        "A test set is a subset of the dataset used to assess the final performance of a trained machine learning model\n",
        "'''"
      ],
      "metadata": {
        "colab": {
          "base_uri": "https://localhost:8080/",
          "height": 36
        },
        "id": "T0ggYYQLkMIC",
        "outputId": "3d55138d-7e01-414f-eefc-cb47dde3fe06"
      },
      "execution_count": 10,
      "outputs": [
        {
          "output_type": "execute_result",
          "data": {
            "text/plain": [
              "'\\nA test set is a subset of the dataset used to assess the final performance of a trained machine learning model\\n'"
            ],
            "application/vnd.google.colaboratory.intrinsic+json": {
              "type": "string"
            }
          },
          "metadata": {},
          "execution_count": 10
        }
      ]
    },
    {
      "cell_type": "code",
      "source": [
        "#10) How do we split data for model fitting (training and testing) in Python? How do you approach a Machine Learning problem?\n",
        "#1)\n",
        "'''\n",
        "from sklearn.model_selection import train_test_split\n",
        "X_train, X_test, y_train, y_test = train_test_split(X, y, test_size=0.2, random_state=42)\n",
        "'''\n",
        "#2)\n",
        "'''\n",
        "Understand the problem and collect data.\n",
        "Perform Exploratory Data Analysis (EDA).\n",
        "Preprocess and clean the data.\n",
        "Select features and encode variables.\n",
        "Split the data into training and test sets.\n",
        "Choose a suitable model.\n",
        "Train the model and optimize hyperparameters.\n",
        "Evaluate the model using test data.\n",
        "Deploy and monitor the model.\n",
        "'''"
      ],
      "metadata": {
        "colab": {
          "base_uri": "https://localhost:8080/",
          "height": 53
        },
        "id": "U_n4uUDkkRXO",
        "outputId": "e2791b85-a18c-4d9c-8f1c-edc7b71df8d6"
      },
      "execution_count": 13,
      "outputs": [
        {
          "output_type": "execute_result",
          "data": {
            "text/plain": [
              "'\\nUnderstand the problem and collect data.\\nPerform Exploratory Data Analysis (EDA).\\nPreprocess and clean the data.\\nSelect features and encode variables.\\nSplit the data into training and test sets.\\nChoose a suitable model.\\nTrain the model and optimize hyperparameters.\\nEvaluate the model using test data.\\nDeploy and monitor the model.\\n'"
            ],
            "application/vnd.google.colaboratory.intrinsic+json": {
              "type": "string"
            }
          },
          "metadata": {},
          "execution_count": 13
        }
      ]
    },
    {
      "cell_type": "code",
      "source": [
        "#11) Why do we have to perform EDA before fitting a model to the data?\n",
        "'''\n",
        "EDA helps in understanding the structure, patterns, and anomalies in the data. It allows us to:\n",
        "\n",
        "Identify missing or inconsistent data.\n",
        "Visualize relationships between variables.\n",
        "Decide on feature selection and transformation.\n",
        "'''"
      ],
      "metadata": {
        "colab": {
          "base_uri": "https://localhost:8080/",
          "height": 53
        },
        "id": "HPHHOVbukcFa",
        "outputId": "56fedbf5-f942-4c07-c88e-696799e4da53"
      },
      "execution_count": 14,
      "outputs": [
        {
          "output_type": "execute_result",
          "data": {
            "text/plain": [
              "'\\nEDA helps in understanding the structure, patterns, and anomalies in the data. It allows us to:\\n\\nIdentify missing or inconsistent data.\\nVisualize relationships between variables.\\nDecide on feature selection and transformation.\\n'"
            ],
            "application/vnd.google.colaboratory.intrinsic+json": {
              "type": "string"
            }
          },
          "metadata": {},
          "execution_count": 14
        }
      ]
    },
    {
      "cell_type": "code",
      "source": [
        "#12) What is correlation?\n",
        "'''\n",
        "Correlation is a statistical measure that describes the relationship between two variables. It indicates whether and how strongly pairs of variables are related. The correlation coefficient ranges from -1 to 1.\n",
        "\n",
        "1: Perfect positive correlation.\n",
        "-1: Perfect negative correlation.\n",
        "0: No correlation.\n",
        "'''"
      ],
      "metadata": {
        "colab": {
          "base_uri": "https://localhost:8080/",
          "height": 53
        },
        "id": "Tp1C2CCWkxXg",
        "outputId": "02f96dd9-fb58-457a-f344-110e70c83196"
      },
      "execution_count": 15,
      "outputs": [
        {
          "output_type": "execute_result",
          "data": {
            "text/plain": [
              "'\\nCorrelation is a statistical measure that describes the relationship between two variables. It indicates whether and how strongly pairs of variables are related. The correlation coefficient ranges from -1 to 1.\\n\\n1: Perfect positive correlation.\\n-1: Perfect negative correlation.\\n0: No correlation.\\n'"
            ],
            "application/vnd.google.colaboratory.intrinsic+json": {
              "type": "string"
            }
          },
          "metadata": {},
          "execution_count": 15
        }
      ]
    },
    {
      "cell_type": "code",
      "source": [
        "#13) What does negative correlation mean?\n",
        "'''\n",
        "Negative correlation means that as one variable increases, the other variable decreases, and vice versa.\n",
        "For example, an increase in the number of hours spent studying is often negatively correlated with the number of errors in an exam.\n",
        "\n",
        "\n",
        "'''"
      ],
      "metadata": {
        "colab": {
          "base_uri": "https://localhost:8080/",
          "height": 53
        },
        "id": "KcSGnbIAlMvl",
        "outputId": "f1da1a4d-15ac-4f30-d138-a94b32c6248b"
      },
      "execution_count": 16,
      "outputs": [
        {
          "output_type": "execute_result",
          "data": {
            "text/plain": [
              "'\\nNegative correlation means that as one variable increases, the other variable decreases, and vice versa.\\nFor example, an increase in the number of hours spent studying is often negatively correlated with the number of errors in an exam.\\n\\n\\n'"
            ],
            "application/vnd.google.colaboratory.intrinsic+json": {
              "type": "string"
            }
          },
          "metadata": {},
          "execution_count": 16
        }
      ]
    },
    {
      "cell_type": "code",
      "source": [
        "#14) How can you find correlation between variables in Python?\n",
        "'''\n",
        "import pandas as pd\n",
        "correlation_matrix = df.corr()\n",
        "'''"
      ],
      "metadata": {
        "colab": {
          "base_uri": "https://localhost:8080/",
          "height": 36
        },
        "id": "5vamk2d0lRnl",
        "outputId": "08fc4b0e-ec47-4fce-cf6b-8b9a542fe003"
      },
      "execution_count": 18,
      "outputs": [
        {
          "output_type": "execute_result",
          "data": {
            "text/plain": [
              "'\\nimport pandas as pd\\ncorrelation_matrix = df.corr()\\n'"
            ],
            "application/vnd.google.colaboratory.intrinsic+json": {
              "type": "string"
            }
          },
          "metadata": {},
          "execution_count": 18
        }
      ]
    },
    {
      "cell_type": "code",
      "source": [
        "#15) What is causation? Explain difference between correlation and causation with an example\n",
        "'''\n",
        "Causation: One variable directly affects another.\n",
        "Correlation: A relationship exists, but one may not cause the other.\n",
        "Example:\n",
        "\n",
        "Correlation: Ice cream sales and drowning incidents are correlated.\n",
        "Causation: Hot weather causes both higher ice cream sales and more swimming, leading to drowning incidents.\n",
        "'''"
      ],
      "metadata": {
        "colab": {
          "base_uri": "https://localhost:8080/",
          "height": 53
        },
        "id": "ktbwJWjwlYzL",
        "outputId": "9e86d165-cc5a-4021-896b-10deda7e37a5"
      },
      "execution_count": 19,
      "outputs": [
        {
          "output_type": "execute_result",
          "data": {
            "text/plain": [
              "'\\nCausation: One variable directly affects another.\\nCorrelation: A relationship exists, but one may not cause the other.\\nExample:\\n\\nCorrelation: Ice cream sales and drowning incidents are correlated.\\nCausation: Hot weather causes both higher ice cream sales and more swimming, leading to drowning incidents.\\n'"
            ],
            "application/vnd.google.colaboratory.intrinsic+json": {
              "type": "string"
            }
          },
          "metadata": {},
          "execution_count": 19
        }
      ]
    },
    {
      "cell_type": "code",
      "source": [
        "#16) What is an Optimizer? What are different types of optimizers? Explain each with an example.\n",
        "'''\n",
        "An optimizer updates model parameters to minimize the loss function.\n",
        "\n",
        "Types:\n",
        "\n",
        "Gradient Descent: Basic optimizer using gradients.\n",
        "Stochastic Gradient Descent (SGD): Uses a subset of data for faster computation.\n",
        "Adam: Combines momentum and adaptive learning rates.\n",
        "Example of Adam in TensorFlow:\n",
        "\n",
        "optimizer = tf.keras.optimizers.Adam(learning_rate=0.001)\n",
        "'''"
      ],
      "metadata": {
        "colab": {
          "base_uri": "https://localhost:8080/",
          "height": 70
        },
        "id": "ujL8E3qElhR4",
        "outputId": "12176ce4-471d-4996-fa82-6969729d7ff7"
      },
      "execution_count": 20,
      "outputs": [
        {
          "output_type": "execute_result",
          "data": {
            "text/plain": [
              "'\\nAn optimizer updates model parameters to minimize the loss function.\\n\\nTypes:\\n\\nGradient Descent: Basic optimizer using gradients.\\nStochastic Gradient Descent (SGD): Uses a subset of data for faster computation.\\nAdam: Combines momentum and adaptive learning rates.\\nExample of Adam in TensorFlow:\\n\\noptimizer = tf.keras.optimizers.Adam(learning_rate=0.001)\\n'"
            ],
            "application/vnd.google.colaboratory.intrinsic+json": {
              "type": "string"
            }
          },
          "metadata": {},
          "execution_count": 20
        }
      ]
    },
    {
      "cell_type": "code",
      "source": [
        "#17) What is sklearn.linear_model ?\n",
        "'''\n",
        "sklearn.linear_model is a module in Scikit-learn for linear models such as Linear Regression, Logistic Regression, and Ridge Regression.\n",
        "'''"
      ],
      "metadata": {
        "colab": {
          "base_uri": "https://localhost:8080/",
          "height": 36
        },
        "id": "2S2K-gSeloi-",
        "outputId": "0cc13bfc-ba99-4ff9-a216-c7f97e699991"
      },
      "execution_count": 21,
      "outputs": [
        {
          "output_type": "execute_result",
          "data": {
            "text/plain": [
              "'\\nsklearn.linear_model is a module in Scikit-learn for linear models such as Linear Regression, Logistic Regression, and Ridge Regression.\\n'"
            ],
            "application/vnd.google.colaboratory.intrinsic+json": {
              "type": "string"
            }
          },
          "metadata": {},
          "execution_count": 21
        }
      ]
    },
    {
      "cell_type": "code",
      "source": [
        "#18) What does model.fit() do? What arguments must be given?\n",
        "'''\n",
        "model.fit() trains the model on the data.\n",
        "\n",
        "Arguments:\n",
        "\n",
        "Input data (X).\n",
        "Target data (y).\n",
        "'''"
      ],
      "metadata": {
        "colab": {
          "base_uri": "https://localhost:8080/",
          "height": 36
        },
        "id": "owNZVy8alu4V",
        "outputId": "b6854a42-1e11-49f1-eaa6-ef07b22a6851"
      },
      "execution_count": 22,
      "outputs": [
        {
          "output_type": "execute_result",
          "data": {
            "text/plain": [
              "'\\nmodel.fit() trains the model on the data.\\n\\nArguments:\\n\\nInput data (X).\\nTarget data (y).\\n'"
            ],
            "application/vnd.google.colaboratory.intrinsic+json": {
              "type": "string"
            }
          },
          "metadata": {},
          "execution_count": 22
        }
      ]
    },
    {
      "cell_type": "code",
      "source": [
        "#19) What does model.predict() do? What arguments must be given?\n",
        "'''\n",
        "model.predict() generates predictions for input data.\n",
        "\n",
        "Arguments:\n",
        "\n",
        "Data for which predictions are needed (X_test).\n",
        "'''"
      ],
      "metadata": {
        "colab": {
          "base_uri": "https://localhost:8080/",
          "height": 36
        },
        "id": "U1xbDOdQl0qv",
        "outputId": "4e541b99-47e4-44e5-83a8-a0b4fab52f2e"
      },
      "execution_count": 23,
      "outputs": [
        {
          "output_type": "execute_result",
          "data": {
            "text/plain": [
              "'\\nmodel.predict() generates predictions for input data.\\n\\nArguments:\\n\\nData for which predictions are needed (X_test).\\n'"
            ],
            "application/vnd.google.colaboratory.intrinsic+json": {
              "type": "string"
            }
          },
          "metadata": {},
          "execution_count": 23
        }
      ]
    },
    {
      "cell_type": "code",
      "source": [
        "#20) What are continuous and categorical variables?\n",
        "\n",
        "'''\n",
        "Continuous Variables: Variables that can take an infinite number of values (e.g., height, weight, temperature).\n",
        "Categorical Variables: Variables with discrete categories or labels (e.g., color, gender, type).\n",
        "\n",
        "\n",
        "'''"
      ],
      "metadata": {
        "colab": {
          "base_uri": "https://localhost:8080/",
          "height": 53
        },
        "id": "BRuScqlDl5Y0",
        "outputId": "2108dbe1-cc22-4d5b-c6fb-76867f8fe08e"
      },
      "execution_count": 24,
      "outputs": [
        {
          "output_type": "execute_result",
          "data": {
            "text/plain": [
              "'\\nFeature scaling standardizes the range of independent variables to improve the \\nperformance and convergence of models, especially those sensitive to magnitudes (e.g., SVM, k-NN).\\n\\n\\n'"
            ],
            "application/vnd.google.colaboratory.intrinsic+json": {
              "type": "string"
            }
          },
          "metadata": {},
          "execution_count": 24
        }
      ]
    },
    {
      "cell_type": "code",
      "source": [
        "#21) What is feature scaling? How does it help in Machine Learning?\n",
        "'''\n",
        " Feature scaling standardizes the range of independent variables to improve the\n",
        " performance and convergence of models, especially those sensitive to magnitudes (e.g., SVM, k-NN).\n",
        "\n",
        "\n",
        "\n",
        "'''"
      ],
      "metadata": {
        "colab": {
          "base_uri": "https://localhost:8080/",
          "height": 36
        },
        "id": "78R1gULtmBc2",
        "outputId": "64ef63d6-e261-4a90-fd87-649116c5be94"
      },
      "execution_count": 25,
      "outputs": [
        {
          "output_type": "execute_result",
          "data": {
            "text/plain": [
              "'\\nfrom sklearn.preprocessing import StandardScaler\\nscaler = StandardScaler()\\nX_scaled = scaler.fit_transform(X)\\n\\n'"
            ],
            "application/vnd.google.colaboratory.intrinsic+json": {
              "type": "string"
            }
          },
          "metadata": {},
          "execution_count": 25
        }
      ]
    },
    {
      "cell_type": "code",
      "source": [
        "#22)How do we perform scaling in Python?\n",
        "'''\n",
        "from sklearn.preprocessing import StandardScaler\n",
        "scaler = StandardScaler()\n",
        "X_scaled = scaler.fit_transform(X)\n",
        "'''"
      ],
      "metadata": {
        "colab": {
          "base_uri": "https://localhost:8080/",
          "height": 36
        },
        "id": "g3FicxDemHA0",
        "outputId": "4c4842aa-a2fe-4dba-96d2-d21e73ae2cae"
      },
      "execution_count": 26,
      "outputs": [
        {
          "output_type": "execute_result",
          "data": {
            "text/plain": [
              "'\\nfrom sklearn.preprocessing import StandardScaler\\nscaler = StandardScaler()\\nX_scaled = scaler.fit_transform(X)\\n'"
            ],
            "application/vnd.google.colaboratory.intrinsic+json": {
              "type": "string"
            }
          },
          "metadata": {},
          "execution_count": 26
        }
      ]
    },
    {
      "cell_type": "code",
      "source": [
        "#23) What is sklearn.preprocessing?\n",
        "'''\n",
        "sklearn.preprocessing is a module in Scikit-learn that provides utilities for\n",
        "scaling, normalizing, and encoding data to make it suitable for machine learning models.\n",
        "\n",
        "'''"
      ],
      "metadata": {
        "colab": {
          "base_uri": "https://localhost:8080/",
          "height": 36
        },
        "id": "tnAzYwoOmnVU",
        "outputId": "389328b3-ceab-49f8-995d-53be97974dd2"
      },
      "execution_count": 27,
      "outputs": [
        {
          "output_type": "execute_result",
          "data": {
            "text/plain": [
              "'\\nsklearn.preprocessing is a module in Scikit-learn that provides utilities for \\nscaling, normalizing, and encoding data to make it suitable for machine learning models.\\n\\n'"
            ],
            "application/vnd.google.colaboratory.intrinsic+json": {
              "type": "string"
            }
          },
          "metadata": {},
          "execution_count": 27
        }
      ]
    },
    {
      "cell_type": "code",
      "source": [
        "#24) How do we split data for model fitting (training and testing) in Python?\n",
        "from sklearn.model_selection import train_test_split\n",
        "\n",
        "# Example dataset\n",
        "X = [[1], [2], [3], [4], [5]]  # Features\n",
        "y = [10, 20, 30, 40, 50]       # Target values\n",
        "\n",
        "# Splitting the dataset into 80% training and 20% testing\n",
        "X_train, X_test, y_train, y_test = train_test_split(X, y, test_size=0.2, random_state=42)\n",
        "\n",
        "print(\"Training features:\", X_train)\n",
        "print(\"Testing features:\", X_test)\n",
        "print(\"Training targets:\", y_train)\n",
        "print(\"Testing targets:\", y_test)\n"
      ],
      "metadata": {
        "colab": {
          "base_uri": "https://localhost:8080/"
        },
        "id": "YbqoyMX6mu-n",
        "outputId": "e04b939a-adf9-47fa-ef98-47c49273a3cf"
      },
      "execution_count": 28,
      "outputs": [
        {
          "output_type": "stream",
          "name": "stdout",
          "text": [
            "Training features: [[5], [3], [1], [4]]\n",
            "Testing features: [[2]]\n",
            "Training targets: [50, 30, 10, 40]\n",
            "Testing targets: [20]\n"
          ]
        }
      ]
    },
    {
      "cell_type": "code",
      "source": [
        "#25) Explain data encoding?\n",
        "'''\n",
        "Data encoding converts categorical data into numerical form for model processing. Techniques include:\n",
        "\n",
        "Label Encoding.\n",
        "One-Hot Encoding.\n",
        "Ordinal Encoding.\n",
        "'''\n"
      ],
      "metadata": {
        "colab": {
          "base_uri": "https://localhost:8080/",
          "height": 36
        },
        "id": "qE_BV7CZm26K",
        "outputId": "85493248-ba48-4ade-bc0b-3790df2d0d30"
      },
      "execution_count": 29,
      "outputs": [
        {
          "output_type": "execute_result",
          "data": {
            "text/plain": [
              "'\\nData encoding converts categorical data into numerical form for model processing. Techniques include:\\n\\nLabel Encoding.\\nOne-Hot Encoding.\\nOrdinal Encoding.\\n'"
            ],
            "application/vnd.google.colaboratory.intrinsic+json": {
              "type": "string"
            }
          },
          "metadata": {},
          "execution_count": 29
        }
      ]
    },
    {
      "cell_type": "code",
      "source": [],
      "metadata": {
        "id": "Nhm4X4hHnEUG"
      },
      "execution_count": null,
      "outputs": []
    }
  ]
}